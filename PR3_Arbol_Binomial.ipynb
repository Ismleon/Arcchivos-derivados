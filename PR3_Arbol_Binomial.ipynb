{
  "nbformat": 4,
  "nbformat_minor": 0,
  "metadata": {
    "colab": {
      "name": "PR3-Arbol Binomial.ipynb",
      "provenance": [],
      "authorship_tag": "ABX9TyMLKJBr805pToUhsJ7jnifo",
      "include_colab_link": true
    },
    "kernelspec": {
      "name": "python3",
      "display_name": "Python 3"
    },
    "language_info": {
      "name": "python"
    }
  },
  "cells": [
    {
      "cell_type": "markdown",
      "metadata": {
        "id": "view-in-github",
        "colab_type": "text"
      },
      "source": [
        "<a href=\"https://colab.research.google.com/github/Ismleon/Arcchivos-derivados/blob/main/PR3_Arbol_Binomial.ipynb\" target=\"_parent\"><img src=\"https://colab.research.google.com/assets/colab-badge.svg\" alt=\"Open In Colab\"/></a>"
      ]
    },
    {
      "cell_type": "markdown",
      "source": [
        "#PRÁCTICA 3\n",
        "#ÁRBOL BINOMIAL\n",
        "### A través de la teoría binomial se calcula el precio teórico de una opción.\n",
        "### En primer lugar crearemos una función para calcular el precio teórico. Esta función se llamará \"op_prima\".\n"
      ],
      "metadata": {
        "id": "B7-60JhQ54dz"
      }
    },
    {
      "cell_type": "code",
      "source": [
        "import numpy as nfin #importamos la librería numpy para calculos financieros\n",
        "from scipy.stats import binom #librería para el cálculo de las probabilidades mediante una distribución binomial\n",
        "def op_prima(tipo,spot,strik,anyos,n,tInt):\n",
        "  r=nfin.log(1+tInt)  # r es el tanto instantáneo\n",
        "  T=anyos/n\n",
        "  u=1.25 #factor de subida (1+subida%)\n",
        "  d=1/u #factor de bajada, es el inverso del factor de subida\n",
        "  p=(nfin.exp(r*T)-d)/(u-d) #probabilidad de subida\n",
        "  Sn=[0]*(n+1) # Creamos una lista para guardar los precios del activo subyacene a fecha de vencimiento.\n",
        "  payoff=[0]*(n+1) # el payoff comienza a contar desde 0\n",
        "  op_prima=0\n",
        "  for i in range(n+1):\n",
        "    Sn[i]=spot*u**(n-i)*d**i #Calculo del precio del activo subyacente mediante bucle para conocer cada valor.\n",
        "    if tipo.lower()=='call':\n",
        "      payoff[i]=max(0,Sn[i]-strik) # el payoff se obtiene:\n",
        "      #como el precio del subyacente en la posición i menos el precio de ejercicio de la opción siempre que la opción sea de compra\n",
        "    if tipo.lower()=='put':\n",
        "      payoff[i]=max(0,strik-Sn[i]) # el payoff se calcula en este caso \n",
        "      #como el precio de ejercicio de la opción menos el precio del subyacente en la posición i siempre que la opción es de venta.\n",
        "    op_prima+=payoff[i]*binom.pmf(n-i, n, p) #se calcula el precio de la opción como el sumatorio del producto entre la probabilidad calculada mediante la binomial y el payoff en cada momento\n",
        "  op_prima*=nfin.exp(-r*anyos) #factor de actualización del precio de la opción hasta 0.\n",
        "  return op_prima\n",
        "  \n",
        "#Calcularemos el arbol desde 1 hasta m pasos, en este caso 4\n",
        "m=4 \n",
        "pasos=m*[0]\n",
        "for j in range(m): #las listas empiezan en cero por eso hay que recordar al programa que empiece siempre en 1.\n",
        " pasos[j]=op_prima('call',100,100,1,j+1,0.03)\n",
        "\n",
        "print(op_prima('call',100,100,1,4,(0.03)))"
      ],
      "metadata": {
        "colab": {
          "base_uri": "https://localhost:8080/"
        },
        "id": "CjXXZe876X5U",
        "outputId": "53ffc67a-4c5a-4598-8765-a60a968756c6"
      },
      "execution_count": 1,
      "outputs": [
        {
          "output_type": "stream",
          "name": "stdout",
          "text": [
            "17.848093006121687\n"
          ]
        }
      ]
    },
    {
      "cell_type": "markdown",
      "source": [
        "### Otro método es calcular el precio de la opción a través del cálculo sin función, es decir a través de fórmulas.\n"
      ],
      "metadata": {
        "id": "MB2DdUgs6tSf"
      }
    },
    {
      "cell_type": "code",
      "source": [
        "import numpy as nfin\n",
        "from scipy.stats import binom #librería para el cálculo de las probabilidades mediante una distribución binomial\n",
        "tipo='call'\n",
        "spot=100\n",
        "strik=100 #precio fijado por adelantado al que se comprará o venderá el activo subyacente si se ejerce la opción.\n",
        "anyos=1 #duración de la opcion en años\n",
        "n=4 #periodos hasta el vencimiento de la opción \n",
        "tInt=0.03 #tipo de interes\n",
        "r=nfin.log(1+tInt)  # r es el tanto instantáneo\n",
        "T=anyos/n\n",
        "u=1.25 #factor de subida\n",
        "d=1/u #factor de bajada, es el inverso del factor de subida\n",
        "p=(nfin.exp(r*T)-d)/(u-d) #probabilidad de subida\n",
        "Sn=[0]*(n+1) # Creamos una lista para guardar los precios del activo subyacene a fecha de vencimiento.\n",
        "payoff=[0]*(n+1) # el payoff comienza a contar desde 0\n",
        "precio=0\n",
        "for i in range(n+1):\n",
        "  Sn[i]=spot*u**(n-i)*d**i #se calcula el precio del activo subyacente en cada posición\n",
        "  if tipo.lower()=='call':\n",
        "    payoff[i]=max(0,Sn[i]-strik) # el payoff se obtiene:\n",
        "      #como el precio del subyacente en la posición i menos el precio de ejercicio de la opción siempre que la opción sea de compra\n",
        "  if tipo.lower()=='put':\n",
        "    payoff[i]=max(0,strik-Sn[i]) #si la opción es de venta, el payoff se calcula como el precio de ejercicio de la opción menos el precio del subyacente en la posición i \n",
        "  precio+=payoff[i]*binom.pmf(n-i, n, p) #se calcula el precio de la opción como el sumatorio del producto entre la probabilidad calculada mediante la binomial y el payoff en cada momento\n",
        "precio*=nfin.exp(-r*anyos) #descontamos a valor actual el precio de la opción, hasta t=0\n",
        "\n",
        "print(precio)"
      ],
      "metadata": {
        "colab": {
          "base_uri": "https://localhost:8080/"
        },
        "id": "0S_0MQTZ6_g6",
        "outputId": "33d67cf0-1d7d-4ee0-978e-5cfa5be3cb99"
      },
      "execution_count": 2,
      "outputs": [
        {
          "output_type": "stream",
          "name": "stdout",
          "text": [
            "17.848093006121687\n"
          ]
        }
      ]
    }
  ]
}