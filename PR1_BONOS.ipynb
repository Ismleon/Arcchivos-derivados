{
  "nbformat": 4,
  "nbformat_minor": 0,
  "metadata": {
    "colab": {
      "name": "PR1-BONOS.ipynb",
      "provenance": [],
      "authorship_tag": "ABX9TyN6idBrgi+lVzoPqFaVF7d2",
      "include_colab_link": true
    },
    "kernelspec": {
      "name": "python3",
      "display_name": "Python 3"
    },
    "language_info": {
      "name": "python"
    }
  },
  "cells": [
    {
      "cell_type": "markdown",
      "metadata": {
        "id": "view-in-github",
        "colab_type": "text"
      },
      "source": [
        "<a href=\"https://colab.research.google.com/github/Ismleon/Arcchivos-derivados/blob/main/PR1_BONOS.ipynb\" target=\"_parent\"><img src=\"https://colab.research.google.com/assets/colab-badge.svg\" alt=\"Open In Colab\"/></a>"
      ]
    },
    {
      "cell_type": "code",
      "execution_count": null,
      "metadata": {
        "id": "DhbxEqrypgYq"
      },
      "outputs": [],
      "source": [
        ""
      ]
    },
    {
      "cell_type": "markdown",
      "source": [
        "#PRÁCTICA 1\n",
        "##Calcule el precio y la TIR del bono X conocidos los bonos A, B, C, D y E que cotizan en un mercado de renta fija"
      ],
      "metadata": {
        "id": "OUZuU9VYpneW"
      }
    },
    {
      "cell_type": "markdown",
      "source": [
        "### El primer paso a realizar es instalar la librería que contiene las herramientas financieras que vamos a usar como por ejemplo la TIR"
      ],
      "metadata": {
        "id": "U7Dxe0ejqgid"
      }
    },
    {
      "cell_type": "code",
      "source": [
        "pip install numpy-financial\n"
      ],
      "metadata": {
        "colab": {
          "base_uri": "https://localhost:8080/"
        },
        "id": "oofca-Ssp9OJ",
        "outputId": "70c65a0b-7a66-4078-faca-c374432bf556"
      },
      "execution_count": null,
      "outputs": [
        {
          "output_type": "stream",
          "name": "stdout",
          "text": [
            "Collecting numpy-financial\n",
            "  Downloading numpy_financial-1.0.0-py3-none-any.whl (14 kB)\n",
            "Requirement already satisfied: numpy>=1.15 in /usr/local/lib/python3.7/dist-packages (from numpy-financial) (1.21.5)\n",
            "Installing collected packages: numpy-financial\n",
            "Successfully installed numpy-financial-1.0.0\n"
          ]
        }
      ]
    },
    {
      "cell_type": "code",
      "source": [
        "import numpy_financial as nfin #acortamos la manera de llamar a la librería para facilitar su uso.\n",
        "# Ya instalada la liberia, pasamos a la introducción de datos\n",
        "#Dato importante: El precio inicial (P0) va en negativo para después no errar en la TIR\n",
        "#En el bono X no conocemos su precio\n",
        "bonoA = [-96,100,0,0,0,0]\n",
        "bonoB = [-545,50,550,0,0,0]\n",
        "bonoC = [-1030,70,70,1070,0,0]\n",
        "bonoD = [-2030,150,150,150,2150,0]\n",
        "bonoE = [-3920,300,300,300,300,4300]\n",
        "bonoX = [0,100,100,100,100,1100]\n",
        "\n",
        "#El siguiente paso es calcular la TIR partiendo de los precios que sabemos\n",
        "tirA = nfin.irr(bonoA)\n",
        "tirB = nfin.irr(bonoB)\n",
        "tirC = nfin.irr(bonoC)\n",
        "tirD = nfin.irr(bonoD)\n",
        "tirE = nfin.irr(bonoE)\n",
        "# a continuación imprimimos los resultados\n",
        "print(f\"LA tir del bonoA es: {tirA:.2%}\")\n",
        "print(f\"LA tir del bonoB es: {tirB:.2%}\")\n",
        "print(f\"LA tir del bonoC es: {tirC:.2%}\")\n",
        "print(f\"LA tir del bonoD es: {tirD:.2%}\")\n",
        "print(f\"LA tir del bonoE es: {tirE:.2%}\")\n",
        "\n",
        "#El precio del bono X se calcula con la ETTI del año 1 hasta 5 y necesitamos conocerlas.\n",
        "#Las ETTI: TIR de bonos cupon cero\n",
        "#La ETTI del año 1 es conocida que es la tir del bono A(tirA) \n",
        "#creamos un vector que contenga la ETTI\n",
        "etti = [tirA,0,0,0,0]\n",
        "\n",
        "#Para obtener las ETTI posteriores, es necesario calcular los flujos de caja intermedios descontados(FCID)\n",
        "#Los FCID son el valor actual de cada cupon descontados con la ETTI\n",
        "def calculo_etti(bono, etti):\n",
        "    n = [i for i, e in enumerate(bono) if e != 0][-1]\n",
        "    ultimo_flujo = bono[n]\n",
        "    precio = -bono[0]\n",
        "    fcid = 0\n",
        "    for i in range(1,n):\n",
        "        fcid += bono[i] / (1+etti[i-1])**i\n",
        "    return (ultimo_flujo / (precio - fcid))**(1/n)-1\n",
        "\n",
        "etti[1] = calculo_etti(bonoB, etti)\n",
        "etti[2] = calculo_etti(bonoC, etti)\n",
        "etti[3] = calculo_etti(bonoD, etti)\n",
        "etti[4] = calculo_etti(bonoE, etti)\n",
        "print(\"El valor de las etti es:\", etti)\n",
        "\n",
        "#El siguiente paso es calcular el precio del bono X\n",
        "def precio_bonoX(flujos, interés):\n",
        "    precio = 0\n",
        "    for i in range(1, len(flujos)):\n",
        "        precio += flujos[i] * (1+interés[i-1])**-i\n",
        "    return precio\n",
        "\n",
        "resultado= precio_bonoX(bonoX, etti)\n",
        "print(f\"el precio del bonoX es {resultado} Euros\")\n",
        "\n",
        "bonoX[0]= -resultado\n",
        "print(bonoX)\n",
        "#calculamos la TIR del BonoX\n",
        "tirX = nfin.irr(bonoX)\n",
        "print(f\"LA tir del bonoX es: {tirX:.2%}\")"
      ],
      "metadata": {
        "colab": {
          "base_uri": "https://localhost:8080/"
        },
        "id": "ykZRoakbqwXr",
        "outputId": "d092f01d-2f72-4d39-b9ba-c9a446d96515"
      },
      "execution_count": null,
      "outputs": [
        {
          "output_type": "stream",
          "name": "stdout",
          "text": [
            "LA tir del bonoA es: 4.17%\n",
            "LA tir del bonoB es: 5.15%\n",
            "LA tir del bonoC es: 5.88%\n",
            "LA tir del bonoD es: 7.06%\n",
            "LA tir del bonoE es: 8.00%\n",
            "El valor de las etti es: [0.04166666666666674, 0.05196950480239937, 0.05954698846803952, 0.07260473284719349, 0.08331184471944098]\n",
            "el precio del bonoX es 1083.2522022742555 Euros\n",
            "[-1083.2522022742555, 100, 100, 100, 100, 1100]\n",
            "LA tir del bonoX es: 7.92%\n"
          ]
        }
      ]
    }
  ]
}