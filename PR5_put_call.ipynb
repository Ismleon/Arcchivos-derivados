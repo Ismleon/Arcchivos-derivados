{
  "nbformat": 4,
  "nbformat_minor": 0,
  "metadata": {
    "colab": {
      "name": "PR5-put-call.ipynb",
      "provenance": [],
      "authorship_tag": "ABX9TyMbaK1vzudOSEXd/snNd+KU",
      "include_colab_link": true
    },
    "kernelspec": {
      "name": "python3",
      "display_name": "Python 3"
    },
    "language_info": {
      "name": "python"
    }
  },
  "cells": [
    {
      "cell_type": "markdown",
      "metadata": {
        "id": "view-in-github",
        "colab_type": "text"
      },
      "source": [
        "<a href=\"https://colab.research.google.com/github/Ismleon/Arcchivos-derivados/blob/main/PR5_put_call.ipynb\" target=\"_parent\"><img src=\"https://colab.research.google.com/assets/colab-badge.svg\" alt=\"Open In Colab\"/></a>"
      ]
    },
    {
      "cell_type": "markdown",
      "source": [
        "#PRÁCTICA 5: PARIDAD PUT-CALL\n",
        "## El objetivo en este cuaderno de práctica es estudiar el caso en el que no se cumpla la fórmula de la paridad Put-Call mientras se comparan los valores teóricos con los del mercado. Cuando ocurra este fenómeno intentaremos ver la posibilidad de que se den oportunidades de arbitraje.\n",
        "\n",
        "###Ismael León"
      ],
      "metadata": {
        "id": "XbSn719F5yBT"
      }
    },
    {
      "cell_type": "code",
      "source": [
        "#En primer lugar comenzamos importando las librerías que vamos a emplear.\n",
        "import numpy as n #esta librería nos permite hacer calculos financieros\n",
        "import random #librería para emplear numeros aleatorios\n",
        "import math #libreria para calculos matemáticos\n",
        "\n",
        "#En segundo lugar insertamos las variables que vamos a utilizar y sus datos\n",
        "S = 100 #Precio Actual\n",
        "E = 120 #PE Precio ejercicio\n",
        "P = 8 #Put\n",
        "t = 1 #Años\n",
        "Sn =110 #precio en momento determinado\n",
        "i = 0.15 #Tasa de interés anual\n",
        "r = n.log(1+i) #Tasa de interés instantánea\n",
        "\n",
        "#el tercer paso es insertar el bono que poseemos para la estrategia de paridad\n",
        "Est_bono=120 #precio del bono empleado en la estrategia\n",
        "Bono = Est_bono /(1+i)** t\n",
        "\n",
        "#cuarto paso es calcular el valor de C (\"call\") teórico, y comparar con el call valor de mercado\n",
        "Call_mercado=10\n",
        "Call_teorico = S + P - E * (math.exp(-r*t)) #Cálculo del Call Teórico\n",
        "#Planteamos la fórmula de paridad call-put\n",
        "Activo = S\n",
        "Put = P\n",
        "Call = Call_mercado\n",
        "Bono_paridad = Bono\n",
        "#paridad put-call\n",
        "Call + Bono_paridad == Activo + Put\n",
        "#sabiendo si se cumple la paridad put-call, podemos determinar la estrategia arbitrajista\n",
        "parte1=Call + Bono_paridad #primera parte de la ecuación (call)\n",
        "parte2=Activo + Put #segunda parte de la ecuación (put)\n",
        "print(\"Call + Bono = \", parte1)\n",
        "print(\"Activo + Put = \", parte2)\n",
        "# a continuación para determinar el siguiente movimiento en la estrategia hay que crear una serie de condiciones\n",
        "Resultados = parte1 - parte2\n",
        "#condiciones\n",
        "if Resultados != 0: #si la diferencia entre put y call es diferente a 0 hay oportunidades de arbitraje\n",
        "  print(\"Hay opciones de arbitraje\")\n",
        "if parte1<parte2: #si el valor del put es mayor que el call entonces ejecutamos la venta de put y compramos call\n",
        "  print(\"Comprar Call y Vender Put\")\n",
        "else: #si el valor del call es mayor que el put entonces ejecutamos la venta de call y compramos put\n",
        "  print(\"Comprar Put y Vender Call\")"
      ],
      "metadata": {
        "colab": {
          "base_uri": "https://localhost:8080/"
        },
        "id": "Ov__bGwu6haD",
        "outputId": "42bfa24e-b8a0-4474-cd3f-0772543530f4"
      },
      "execution_count": 2,
      "outputs": [
        {
          "output_type": "stream",
          "name": "stdout",
          "text": [
            "Call + Bono =  114.34782608695653\n",
            "Activo + Put =  108\n",
            "Hay opciones de arbitraje\n",
            "Comprar Put y Vender Call\n"
          ]
        }
      ]
    }
  ]
}