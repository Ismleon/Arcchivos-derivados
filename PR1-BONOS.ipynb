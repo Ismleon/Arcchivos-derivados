#PRÁCTICA 1
##Calcule el precio y la TIR del bono X conocidos los bonos A, B, C, D y E que cotizan en un mercado de renta fija

### El primer paso a realizar es instalar la librería que contiene las herramientas financieras que vamos a usar como por ejemplo la TIR

pip install numpy-financial
import numpy_financial as nfin #acortamos la manera de llamar a la librería para facilitar su uso.
# Ya instalada la liberia, pasamos a la introducción de datos
#Dato importante: El precio inicial (P0) va en negativo para después no errar en la TIR
#En el bono X no conocemos su precio
bonoA = [-96,100,0,0,0,0]
bonoB = [-545,50,550,0,0,0]
bonoC = [-1030,70,70,1070,0,0]
bonoD = [-2030,150,150,150,2150,0]
bonoE = [-3920,300,300,300,300,4300]
bonoX = [0,100,100,100,100,1100]

#El siguiente paso es calcular la TIR partiendo de los precios que sabemos
tirA = nfin.irr(bonoA)
tirB = nfin.irr(bonoB)
tirC = nfin.irr(bonoC)
tirD = nfin.irr(bonoD)
tirE = nfin.irr(bonoE)
# a continuación imprimimos los resultados
print(f"LA tir del bonoA es: {tirA:.2%}")
print(f"LA tir del bonoB es: {tirB:.2%}")
print(f"LA tir del bonoC es: {tirC:.2%}")
print(f"LA tir del bonoD es: {tirD:.2%}")
print(f"LA tir del bonoE es: {tirE:.2%}")

#El precio del bono X se calcula con la ETTI del año 1 hasta 5 y necesitamos conocerlas.
#Las ETTI: TIR de bonos cupon cero
#La ETTI del año 1 es conocida que es la tir del bono A(tirA) 
#creamos un vector que contenga la ETTI
etti = [tirA,0,0,0,0]

#Para obtener las ETTI posteriores, es necesario calcular los flujos de caja intermedios descontados(FCID)
#Los FCID son el valor actual de cada cupon descontados con la ETTI
def calculo_etti(bono, etti):
    n = [i for i, e in enumerate(bono) if e != 0][-1]
    ultimo_flujo = bono[n]
    precio = -bono[0]
    fcid = 0
    for i in range(1,n):
        fcid += bono[i] / (1+etti[i-1])**i
    return (ultimo_flujo / (precio - fcid))**(1/n)-1

etti[1] = calculo_etti(bonoB, etti)
etti[2] = calculo_etti(bonoC, etti)
etti[3] = calculo_etti(bonoD, etti)
etti[4] = calculo_etti(bonoE, etti)
print("El valor de las etti es:", etti)

#El siguiente paso es calcular el precio del bono X
def precio_bonoX(flujos, interés):
    precio = 0
    for i in range(1, len(flujos)):
        precio += flujos[i] * (1+interés[i-1])**-i
    return precio

resultado= precio_bonoX(bonoX, etti)
print(f"el precio del bonoX es {resultado} Euros")

bonoX[0]= -resultado
print(bonoX)
#calculamos la TIR del BonoX
tirX = nfin.irr(bonoX)
print(f"LA tir del bonoX es: {tirX:.2%}")
