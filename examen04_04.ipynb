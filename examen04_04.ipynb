{
  "nbformat": 4,
  "nbformat_minor": 0,
  "metadata": {
    "colab": {
      "name": "examen04-04.ipynb",
      "provenance": [],
      "authorship_tag": "ABX9TyOR4gDO1/O2rW+11pnCOyVA",
      "include_colab_link": true
    },
    "kernelspec": {
      "name": "python3",
      "display_name": "Python 3"
    },
    "language_info": {
      "name": "python"
    }
  },
  "cells": [
    {
      "cell_type": "markdown",
      "metadata": {
        "id": "view-in-github",
        "colab_type": "text"
      },
      "source": [
        "<a href=\"https://colab.research.google.com/github/Ismleon/Arcchivos-derivados/blob/main/examen04_04.ipynb\" target=\"_parent\"><img src=\"https://colab.research.google.com/assets/colab-badge.svg\" alt=\"Open In Colab\"/></a>"
      ]
    },
    {
      "cell_type": "markdown",
      "source": [
        "#pregunta 32"
      ],
      "metadata": {
        "id": "3T8tkQ5EW_QM"
      }
    },
    {
      "cell_type": "code",
      "execution_count": 9,
      "metadata": {
        "colab": {
          "base_uri": "https://localhost:8080/"
        },
        "id": "NofDc3EwUsKh",
        "outputId": "86a9c134-c31a-4b34-dd23-cd3abe679c53"
      },
      "outputs": [
        {
          "output_type": "stream",
          "name": "stdout",
          "text": [
            "Collecting numpy_financial\n",
            "  Downloading numpy_financial-1.0.0-py3-none-any.whl (14 kB)\n",
            "Requirement already satisfied: numpy>=1.15 in /usr/local/lib/python3.7/dist-packages (from numpy_financial) (1.21.5)\n",
            "Installing collected packages: numpy-financial\n",
            "Successfully installed numpy-financial-1.0.0\n"
          ]
        }
      ],
      "source": [
        "pip install numpy_financial"
      ]
    },
    {
      "cell_type": "code",
      "source": [
        "\n",
        "import numpy_financial as npf\n",
        "from random import randint, seed\n",
        "seed()\n",
        "\n",
        "# DATOS\n",
        "tirA = .1\n",
        "cuponB = .1543\n",
        "nominalB = 10_000\n",
        "precioB = 11_300\n",
        "nominalA = randint(1,10000)\n",
        "print(f\"El nominal elegido para el bono A es {nominalA}\")\n",
        "\n",
        "# FLUJOS DE CAJA bonos A y B\n",
        "bonoB = [-precioB, cuponB, cuponB+nominalB]\n",
        "bonoA = [-nominalA/(1+tirA), nominalA, 0]    # añadimos un flujo 0 en t=2 por comodidad, para luego restar flujos\n",
        "m = bonoB[1]/bonoA[1]\n",
        "print(f\"El multiplicador m es {m}\")\n",
        "bonoC = [bonoB[0]-m*bonoA[0], bonoB[1]-m*bonoA[1], bonoB[2]-m*bonoA[2]]\n",
        "print(\"Bono C: \", bonoC)\n",
        "\n",
        "# TIR del bono C\n",
        "tirC = npf.irr(bonoC)\n",
        "print(f\"La TIR del bono C es: {tirC:.6%}\")\n",
        "\n",
        "# Creación de la ETTI\n",
        "etti = [tirA, tirC] # la tirC si pertenece a la ETTI por ser un bono cupón cero, pero la tirB no pertenece\n",
        "\n",
        "# COMPROBAR PRECIOS CON LA ETTI\n",
        "def precio_etti(flujos, etti):\n",
        "    precio = 0\n",
        "    for i in range(1, len(flujos)):\n",
        "        precio += flujos[i] * (1+etti[i-1])**-i\n",
        "    return precio\n",
        "\n",
        "# Precios de los Bonos A, B y C\n",
        "precioA = precio_etti(bonoA, etti)\n",
        "precioB = precio_etti(bonoB, etti)\n",
        "precioC = precio_etti(bonoC, etti)\n",
        "print(f\"La diferencia de precios en el bono A es {precioA+bonoA[0]}\")\n",
        "print(f\"La diferencia de precios en el bono B es {precioB+bonoB[0]}\")\n",
        "print(f\"La diferencia de precios en el bono C es {precioC+bonoC[0]}\")"
      ],
      "metadata": {
        "colab": {
          "base_uri": "https://localhost:8080/"
        },
        "id": "kmhw2VMrWTSI",
        "outputId": "3c363d5b-48ba-4d8d-fa02-6f397a317622"
      },
      "execution_count": 10,
      "outputs": [
        {
          "output_type": "stream",
          "name": "stdout",
          "text": [
            "El nominal elegido para el bono A es 5478\n",
            "El multiplicador m es 2.8167214311792623e-05\n",
            "Bono C:  [-11299.859727272727, 0.0, 10000.1543]\n",
            "La TIR del bono C es: -5.926604%\n",
            "La diferencia de precios en el bono A es 0.0\n",
            "La diferencia de precios en el bono B es 1.8189894035458565e-12\n",
            "La diferencia de precios en el bono C es 1.8189894035458565e-12\n"
          ]
        }
      ]
    },
    {
      "cell_type": "markdown",
      "source": [
        "#pregunta 25"
      ],
      "metadata": {
        "id": "Ve7fjyZdW9xN"
      }
    },
    {
      "cell_type": "code",
      "source": [
        "import numpy_financial as npf\n",
        "import numpy as np\n",
        "\n",
        "##############       MÉTODO 1       ##############\n",
        "\n",
        "# DATOS   \n",
        "bonoA = np.array([-935, 1000, 0])\n",
        "bonoB = np.array([-98, 7, 107])  # ver los flujos de caja del archivo Excel\n",
        "\n",
        "# Bono C\n",
        "bonoC = np.array([0,0,0])        # inicializamos el ndarray\n",
        "bonoC = bonoA[0]*bonoB - bonoB[0]*bonoA\n",
        "print(f\"Bono C: {bonoC}\")\n",
        "\n",
        "# Forward r12\n",
        "r12 = npf.irr(bonoC)\n",
        "print(f\"MÉTODO 1: el forward r12 es {r12:.4%}\")\n",
        "\n",
        "\n"
      ],
      "metadata": {
        "colab": {
          "base_uri": "https://localhost:8080/"
        },
        "id": "Bl42l193WUFu",
        "outputId": "86588e1d-ace0-44c7-ffa4-7a398883af54"
      },
      "execution_count": 12,
      "outputs": [
        {
          "output_type": "stream",
          "name": "stdout",
          "text": [
            "Bono C: [      0   91455 -100045]\n",
            "MÉTODO 1: el forward r12 es 9.3926%\n"
          ]
        }
      ]
    },
    {
      "cell_type": "markdown",
      "source": [
        "#pregunta 18"
      ],
      "metadata": {
        "id": "CVZWhcsHb-Sd"
      }
    },
    {
      "cell_type": "code",
      "source": [
        "import numpy_financial as npf\n",
        "import numpy as np\n",
        "\n",
        "# DATOS   \n",
        "bonoA = np.array([-100, 110, 0, 0])\n",
        "bonoB = np.array([-500, 0, 500*1.11**2, 0])   # la TIR del bono B es del 11%\n",
        "bonoC = np.array([-1000/1.12**3, 0, 0, 1000])  # la TIR del bono C es del 12%\n",
        "\n",
        "print(f\"Bono A: {bonoA}\")\n",
        "print(f\"Bono B: {bonoB}\")\n",
        "print(f\"Bono C: {bonoC}\")\n",
        "\n",
        "##############       MÉTODO 1       ##############\n",
        "\n",
        "bonoD = np.ndarray([0,0,0,0])\n",
        "bonoD = -bonoC[0] * bonoB + bonoB[0] * bonoC\n",
        "print(f\"Bono D: {bonoD}\")\n",
        "tirD = npf.irr(bonoD)\n",
        "print(f\"Método 1: el forward r23 es {tirD:.5%}\")\n"
      ],
      "metadata": {
        "colab": {
          "base_uri": "https://localhost:8080/"
        },
        "id": "-WdFerMscBOV",
        "outputId": "0eedbc46-6980-4617-d82b-5c7dc1a89fe5"
      },
      "execution_count": 13,
      "outputs": [
        {
          "output_type": "stream",
          "name": "stdout",
          "text": [
            "Bono A: [-100  110    0    0]\n",
            "Bono B: [-500.      0.    616.05    0.  ]\n",
            "Bono C: [-711.78024781    0.            0.         1000.        ]\n",
            "Bono D: [      0.               0.          438492.22166545 -500000.        ]\n",
            "Método 1: el forward r23 es 14.02711%\n"
          ]
        }
      ]
    }
  ]
}